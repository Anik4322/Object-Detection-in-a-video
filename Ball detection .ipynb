{
 "cells": [
  {
   "cell_type": "code",
   "execution_count": 1,
   "id": "e83d4b64",
   "metadata": {},
   "outputs": [],
   "source": [
    "import cv2 as cv\n",
    "import numpy as np\n",
    "\n",
    "vid=cv.VideoCapture('messi.mp4')\n",
    "#green range\n",
    "lower_green = np.array([40,40, 40])\n",
    "upper_green = np.array([70, 255, 255])\n",
    "#white range\n",
    "lower_white = np.array([0,0,200])\n",
    "upper_white = np.array([255,15,255])\n",
    "while True:\n",
    "    Succ , frame =vid.read()\n",
    "    if not Succ:\n",
    "        break\n",
    "    df=cv.GaussianBlur(frame,(5 ,5),0)\n",
    "    #df=frame\n",
    "    hsv= cv.cvtColor(df , cv.COLOR_BGR2HSV)\n",
    "    mask= cv.inRange(hsv,lower_green,upper_green)\n",
    "    res = cv.bitwise_and(df, df, mask=mask)\n",
    "\t#convert to hsv to gray\n",
    "    res_bgr = cv.cvtColor(res,cv.COLOR_HSV2BGR)\n",
    "    res_gray = cv.cvtColor(res,cv.COLOR_BGR2GRAY)\n",
    "    kernel = np.ones((5,5),np.uint8)\n",
    "    thresh = cv.threshold(res_gray,127,255,cv.THRESH_BINARY_INV | cv.THRESH_OTSU)[1]\n",
    "    thresh = cv.morphologyEx(thresh, cv.MORPH_OPEN, kernel)\n",
    "    thresh = cv.dilate(thresh,kernel,iterations = 3)\n",
    "    thresh = cv.erode(thresh,kernel,iterations = 1)\n",
    "    contours,hierarchy = cv.findContours(thresh,cv.RETR_TREE,cv.CHAIN_APPROX_SIMPLE)\n",
    "    prev = 0\n",
    "    font = cv.FONT_HERSHEY_SIMPLEX\n",
    "    num=0\n",
    "    for c in contours:\n",
    "        x,y,w,h = cv.boundingRect(c)\n",
    "        if((h>=70 and w>=70) and (h<=120 and w<=120)) and ((h/w > 0.95 or w/h > 0.95) and (w/h < 1.1 or h/w < 1.1)) :\n",
    "            player_img = frame[y:y+h,x:x+w]\n",
    "            player_hsv = cv.cvtColor(player_img,cv.COLOR_BGR2HSV)\n",
    "            #white ball  detection\n",
    "            mask1 = cv.inRange(player_hsv, lower_white, upper_white)\n",
    "            res1 = cv.bitwise_and(player_img, player_img, mask=mask1)\n",
    "            res1 = cv.cvtColor(res1,cv.COLOR_HSV2BGR)\n",
    "            res1 = cv.cvtColor(res1,cv.COLOR_BGR2GRAY)\n",
    "            nzCount = cv.countNonZero(res1)\n",
    "            approx=cv.approxPolyDP(c, 0.04 * cv.arcLength(c, True), True)\n",
    "            k=cv.isContourConvex(approx)\n",
    "            if (nzCount >= 40 and k and len(approx)> 4):\n",
    "                # detect football\n",
    "                num = num+1\n",
    "                cv.putText(frame, 'football', (x-2, y-2), font, 0.8, (0,255,0), 2, cv.LINE_AA)\n",
    "                cv.rectangle(frame,(x-1,y-1),(x+w+1,y+h+1),(0,255,0),3)\n",
    "\n",
    "    cv.imshow('Foot Ball Detection',frame)\n",
    "    if cv.waitKey(1) & 0xFF == ord('q'):\n",
    "        break\n",
    "\n",
    "vid.release()\n",
    "cv.destroyAllWindows()"
   ]
  },
  {
   "cell_type": "code",
   "execution_count": null,
   "id": "55d63361",
   "metadata": {},
   "outputs": [],
   "source": []
  }
 ],
 "metadata": {
  "kernelspec": {
   "display_name": "Python 3 (ipykernel)",
   "language": "python",
   "name": "python3"
  },
  "language_info": {
   "codemirror_mode": {
    "name": "ipython",
    "version": 3
   },
   "file_extension": ".py",
   "mimetype": "text/x-python",
   "name": "python",
   "nbconvert_exporter": "python",
   "pygments_lexer": "ipython3",
   "version": "3.9.15"
  }
 },
 "nbformat": 4,
 "nbformat_minor": 5
}
