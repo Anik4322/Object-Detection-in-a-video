{
 "cells": [
  {
   "cell_type": "code",
   "execution_count": 1,
   "id": "93949f3c",
   "metadata": {},
   "outputs": [
    {
     "ename": "error",
     "evalue": "OpenCV(4.6.0) D:\\a\\opencv-python\\opencv-python\\opencv\\modules\\imgproc\\src\\resize.cpp:4052: error: (-215:Assertion failed) !ssize.empty() in function 'cv::resize'\n",
     "output_type": "error",
     "traceback": [
      "\u001b[1;31m---------------------------------------------------------------------------\u001b[0m",
      "\u001b[1;31merror\u001b[0m                                     Traceback (most recent call last)",
      "\u001b[1;32m~\\AppData\\Local\\Temp\\ipykernel_21192\\4265770806.py\u001b[0m in \u001b[0;36m<module>\u001b[1;34m\u001b[0m\n\u001b[0;32m      4\u001b[0m \u001b[1;31m# reading image\u001b[0m\u001b[1;33m\u001b[0m\u001b[1;33m\u001b[0m\u001b[0m\n\u001b[0;32m      5\u001b[0m \u001b[0mimg\u001b[0m \u001b[1;33m=\u001b[0m \u001b[0mcv2\u001b[0m\u001b[1;33m.\u001b[0m\u001b[0mimread\u001b[0m\u001b[1;33m(\u001b[0m\u001b[1;34m'shapes.png'\u001b[0m\u001b[1;33m)\u001b[0m\u001b[1;33m\u001b[0m\u001b[1;33m\u001b[0m\u001b[0m\n\u001b[1;32m----> 6\u001b[1;33m \u001b[0mimg\u001b[0m \u001b[1;33m=\u001b[0m \u001b[0mcv2\u001b[0m\u001b[1;33m.\u001b[0m\u001b[0mresize\u001b[0m\u001b[1;33m(\u001b[0m\u001b[0mimg\u001b[0m\u001b[1;33m,\u001b[0m \u001b[1;33m(\u001b[0m\u001b[1;36m0\u001b[0m\u001b[1;33m,\u001b[0m\u001b[1;36m0\u001b[0m\u001b[1;33m)\u001b[0m\u001b[1;33m,\u001b[0m \u001b[0mfx\u001b[0m\u001b[1;33m=\u001b[0m\u001b[1;36m2.5\u001b[0m\u001b[1;33m,\u001b[0m \u001b[0mfy\u001b[0m\u001b[1;33m=\u001b[0m\u001b[1;36m2.5\u001b[0m\u001b[1;33m)\u001b[0m\u001b[1;33m\u001b[0m\u001b[1;33m\u001b[0m\u001b[0m\n\u001b[0m\u001b[0;32m      7\u001b[0m \u001b[1;31m#blur=cv2.GaussianBlur(img,(5 ,5),0)\u001b[0m\u001b[1;33m\u001b[0m\u001b[1;33m\u001b[0m\u001b[0m\n\u001b[0;32m      8\u001b[0m \u001b[1;31m# converting image into grayscale image\u001b[0m\u001b[1;33m\u001b[0m\u001b[1;33m\u001b[0m\u001b[0m\n",
      "\u001b[1;31merror\u001b[0m: OpenCV(4.6.0) D:\\a\\opencv-python\\opencv-python\\opencv\\modules\\imgproc\\src\\resize.cpp:4052: error: (-215:Assertion failed) !ssize.empty() in function 'cv::resize'\n"
     ]
    }
   ],
   "source": [
    "import cv2\n",
    "import numpy as np\n",
    "\n",
    "# reading image\n",
    "img = cv2.imread('shapes.png')\n",
    "img = cv2.resize(img, (0,0), fx=2.5, fy=2.5) \n",
    "#blur=cv2.GaussianBlur(img,(5 ,5),0)\n",
    "# converting image into grayscale image\n",
    "gray = cv2.cvtColor(img, cv2.COLOR_BGR2GRAY)\n",
    "gray = cv2.GaussianBlur(gray,(1,1),0)\n",
    "# setting threshold of gray image\n",
    "_, threshold = cv2.threshold(gray, 194, 255, cv2.THRESH_BINARY)\n",
    "threshold=cv2.GaussianBlur(threshold,(9 ,9),0)\n",
    "cv2.imshow(\"Threshold\",threshold)\n",
    "detected_circles = cv2.HoughCircles(gray, \n",
    "                   cv2.HOUGH_GRADIENT, 1, 20, param1 = 50,\n",
    "               param2 = 30, minRadius = 60, maxRadius = 100)\n",
    "# using a findContours() function\n",
    "contours, _ = cv2.findContours(\n",
    "\tthreshold, cv2.RETR_TREE, cv2.CHAIN_APPROX_SIMPLE)\n",
    "# To detect the circles\n",
    "if detected_circles is not None:\n",
    "  \n",
    "    # Convert the circle parameters a, b and r to integers.\n",
    "\tdetected_circles = np.uint16(np.around(detected_circles))\n",
    "\tfor pt in detected_circles[0, :]:\n",
    "\t\ta, b, r = pt[0], pt[1], pt[2]\n",
    "\t\tcv2.putText(img, 'Circle', (a, b),\n",
    "\t\t\t\t\tcv2.FONT_HERSHEY_SIMPLEX, 0.6, (0, 0, 0), 1)\n",
    "i = 0\n",
    "# list for storing names of shapes\n",
    "for contour in contours:\n",
    "\n",
    "\t# here we are ignoring first counter because\n",
    "\t# findcontour function detects whole image as shape\n",
    "\tif i == 0:\n",
    "\t\ti = 1\n",
    "\t\tcontinue\n",
    "\n",
    "\t# cv2.approxPloyDP() function to approximate the shape\n",
    "\tapprox = cv2.approxPolyDP(\n",
    "\t\tcontour, 0.01 * cv2.arcLength(contour, True), True)\n",
    "\t\n",
    "\t# using drawContours() function\n",
    "\t# cv2.drawContours(img, [contour], 0, (0, 0, 255), 5)\n",
    "\n",
    "\t# finding center point of shape\n",
    "\tM = cv2.moments(contour)\n",
    "\tif M['m00'] != 0.0:\n",
    "\t\tx = int(M['m10']/M['m00'])\n",
    "\t\ty = int(M['m01']/M['m00'])\n",
    "\n",
    "\t# putting shape name at center of each shape\n",
    "\tif len(approx) == 3:\n",
    "\t\tcv2.putText(img, 'Triangle', (x, y),\n",
    "\t\t\t\t\tcv2.FONT_HERSHEY_SIMPLEX, 0.6, (0, 0, 0), 1)\n",
    "\n",
    "\telif len(approx) == 4:\n",
    "\t\tcv2.putText(img, 'Quadrilateral', (x, y),\n",
    "\t\t\t\t\tcv2.FONT_HERSHEY_SIMPLEX, 0.6, (0, 0, 0), 1)\n",
    "\n",
    "\telif len(approx) == 5:\n",
    "\t\tcv2.putText(img, 'Pentagon', (x, y),\n",
    "\t\t\t\t\tcv2.FONT_HERSHEY_SIMPLEX, 0.6, (0, 0, 0), 1)\n",
    "\n",
    "\telif len(approx) == 6:\n",
    "\t\tcv2.putText(img, 'Hexagon', (x, y),\n",
    "\t\t\t\t\tcv2.FONT_HERSHEY_SIMPLEX, 0.6, (0, 0, 0), 1)\n",
    "\n",
    "\n",
    "# displaying the image after drawing contours\n",
    "cv2.imshow('shapes', img)\n",
    "\n",
    "cv2.waitKey(0)\n",
    "cv2.destroyAllWindows()"
   ]
  },
  {
   "cell_type": "code",
   "execution_count": 4,
   "id": "f137c22f",
   "metadata": {},
   "outputs": [],
   "source": []
  },
  {
   "cell_type": "code",
   "execution_count": null,
   "id": "01e73443",
   "metadata": {},
   "outputs": [],
   "source": []
  }
 ],
 "metadata": {
  "kernelspec": {
   "display_name": "Python 3 (ipykernel)",
   "language": "python",
   "name": "python3"
  },
  "language_info": {
   "codemirror_mode": {
    "name": "ipython",
    "version": 3
   },
   "file_extension": ".py",
   "mimetype": "text/x-python",
   "name": "python",
   "nbconvert_exporter": "python",
   "pygments_lexer": "ipython3",
   "version": "3.9.15"
  }
 },
 "nbformat": 4,
 "nbformat_minor": 5
}
