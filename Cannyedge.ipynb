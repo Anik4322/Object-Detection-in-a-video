{
 "cells": [
  {
   "cell_type": "code",
   "execution_count": 1,
   "id": "5c7cb6be",
   "metadata": {},
   "outputs": [],
   "source": [
    "import numpy\n",
    "import cv2\n",
    "\n",
    "cap = cv2.VideoCapture(0)\n",
    "\n",
    "while(True):\n",
    "    succ, frame = cap.read()\n",
    "    if succ:\n",
    "        # mask=cv2.inRange(frame,(0,0,0),(50,25,255))\n",
    "        # frame[mask>0]=[255,0,0]\n",
    "        # cv2.imshow('frame',frame)\n",
    "        # Finding edges\n",
    "        edges=cv2.Canny(frame,100,250)\n",
    "        cv2.imshow(\"Edges\", edges)\n",
    "        blur=cv2.GaussianBlur(frame,(5,5),0)\n",
    "        rotation=cv2.flip(frame,1)\n",
    "        # video mirror to original\n",
    "        cv2.imshow(\"mirror\",rotation)\n",
    "        # Gaussian Blur\n",
    "        cv2.imshow(\"Blur\", blur)\n",
    "        # print(edges)\n",
    "        # cv2.imshow(\"com\",img)\n",
    "        imgray = cv2.cvtColor(frame, cv2.COLOR_BGR2GRAY)\n",
    "        ret, thresh = cv2.threshold(imgray, 127, 255, 0)\n",
    "        contours, hierarchy = cv2.findContours(thresh, cv2.RETR_TREE, cv2.CHAIN_APPROX_SIMPLE)\n",
    "        cv2.drawContours(frame, contours, -1, (255, 0, 255), 1)\n",
    "        # adding colours to edges\n",
    "        cv2.imshow('Contours', frame)\n",
    "        if cv2.waitKey(1) & 0xFF == ord('q'):\n",
    "            break\n",
    "    else:\n",
    "        break\n",
    "cv2.destroyAllWindows()"
   ]
  },
  {
   "cell_type": "code",
   "execution_count": null,
   "id": "c9860942",
   "metadata": {},
   "outputs": [],
   "source": []
  },
  {
   "cell_type": "code",
   "execution_count": null,
   "id": "b132c6ab",
   "metadata": {},
   "outputs": [],
   "source": []
  }
 ],
 "metadata": {
  "kernelspec": {
   "display_name": "Python 3 (ipykernel)",
   "language": "python",
   "name": "python3"
  },
  "language_info": {
   "codemirror_mode": {
    "name": "ipython",
    "version": 3
   },
   "file_extension": ".py",
   "mimetype": "text/x-python",
   "name": "python",
   "nbconvert_exporter": "python",
   "pygments_lexer": "ipython3",
   "version": "3.9.15"
  }
 },
 "nbformat": 4,
 "nbformat_minor": 5
}
